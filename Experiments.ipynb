{
 "cells": [
  {
   "cell_type": "markdown",
   "metadata": {},
   "source": [
    "# Experiments for evaluating IRIS"
   ]
  },
  {
   "cell_type": "code",
   "execution_count": 1,
   "metadata": {},
   "outputs": [],
   "source": [
    "%matplotlib inline\n",
    "%load_ext autoreload\n",
    "%autoreload 2"
   ]
  },
  {
   "cell_type": "markdown",
   "metadata": {},
   "source": [
    "## 1. Data preparation\n",
    "\n",
    "At the first beginning, we load the reference sequences of the 524 RNAs collected from the [Rfam database](https://rfam.org/) via the [bpRNA interface](http://bprna.cgrb.oregonstate.edu/)."
   ]
  },
  {
   "cell_type": "code",
   "execution_count": 2,
   "metadata": {},
   "outputs": [
    {
     "name": "stdout",
     "output_type": "stream",
     "text": [
      "--- 524 RNA sequences collected\n"
     ]
    }
   ],
   "source": [
    "from IRIS.Info_RNA import *\n",
    "from Bio import SeqIO\n",
    "\n",
    "all_data = []\n",
    "for ref_rna in SeqIO.parse('./data/Rfam_H.S._nonsim.fa', 'fasta'):\n",
    "    all_data.append(Info_RNA(ref_rna.id, ref_rna.seq))\n",
    "print('--- %d RNA sequences collected' % len(all_data))"
   ]
  },
  {
   "cell_type": "markdown",
   "metadata": {},
   "source": [
    "Then the second step is to load PARIS data. Considering that the raw FASTQ files of PARIS reads are too large, we directly use the resulting BAM files output from [STAR](https://github.com/alexdobin/STAR), which includes the PARIS reads mapped to the 524 RNAs. The PARIS reads are filtered and preprocessed through the codes implemented in [IRIS/Info_PARIS.py](IRIS/Info_PARIS.py)."
   ]
  },
  {
   "cell_type": "code",
   "execution_count": 3,
   "metadata": {},
   "outputs": [],
   "source": [
    "for rna in all_data:\n",
    "    rna.PARIS = Info_PARIS('./data/PARIS_reads/split/' + rna.ident + '.bam')"
   ]
  },
  {
   "cell_type": "markdown",
   "metadata": {},
   "source": [
    "Next, the same-condition icSHAPE data is processed using [icSHAPE pipeline](https://github.com/qczhang/icSHAPE). Here we directly load the processed scores."
   ]
  },
  {
   "cell_type": "code",
   "execution_count": 4,
   "metadata": {},
   "outputs": [],
   "source": [
    "icSHAPE_entries = {}\n",
    "with open('./data/icSHAPE_scores/icSHAPE.out', 'r') as f:\n",
    "    for line in f:\n",
    "        ident = line.split('\\t')[0]\n",
    "        icSHAPE_entries[ident] = line.strip()\n",
    "\n",
    "for rna in all_data:\n",
    "    if rna.ident in icSHAPE_entries:\n",
    "        rna.icSHAPE = Info_icSHAPE(icSHAPE_entries[rna.ident])"
   ]
  },
  {
   "cell_type": "markdown",
   "metadata": {},
   "source": [
    "After loading the PARIS and icSHAPE data. Only the RNAs with more than 1,000 PARIS reads mapped and with valid icSHAPE scores are retained as the test data."
   ]
  },
  {
   "cell_type": "code",
   "execution_count": 5,
   "metadata": {},
   "outputs": [
    {
     "name": "stdout",
     "output_type": "stream",
     "text": [
      "   1: bpRNA_RFAM_999|RF00004_ABBA01028418.1_3128-3319|U2_spliceosomal_RNA|Rfam||0|192|1|published\n",
      "   2: bpRNA_RFAM_4778|RF00030_M29212.1_2-265|RNase_MRP|Rfam||0|264|1|published\n",
      "   3: bpRNA_RFAM_5220|RF00045_L07382.1_2-208|Small_nucleolar_RNA_SNORA73|Rfam||0|207|1|published\n",
      "   4: bpRNA_RFAM_6402|RF00091_AC099332.2_52634-52482|Small_nucleolar_RNA_SNORA62|Rfam||0|153|1|predicted\n",
      "   5: bpRNA_RFAM_7522|RF00138_X72205.1_148-246|Small_nucleolar_RNA_SNORD16|Rfam||0|99|1|predicted\n",
      "   6: bpRNA_RFAM_11528|RF00279_AL357314.11_74156-74234|Small_nucleolar_RNA_SNORD45|Rfam||0|79|1|predicted\n",
      "   7: bpRNA_RFAM_15094|RF00478_AY077737.1_2-276|Small_Cajal_body_specific_RNA_6|Rfam||0|275|1|published\n",
      "   8: bpRNA_RFAM_17298|RF00567_AL121585.22_69574-69338|Small_nucleolar_RNA_SNORA35|Rfam||0|237|1|predicted\n",
      "   9: bpRNA_RFAM_18156|RF00618_U62822.1_2-128|flavivirus_capsid_hairpin_cHP|Rfam||0|127|1|published\n",
      "  10: bpRNA_RFAM_25079|RF01296_AF308283.1_1-330|Small_nucleolar_RNA|Rfam||0|330|1|predicted\n",
      "  11: bpRNA_RFAM_43246|RF02556_ABSL01008103.1_469-355|5S_ribosomal_RNA|Rfam||0|115|1|predicted\n"
     ]
    }
   ],
   "source": [
    "avaliable_data = []\n",
    "for rna in all_data:\n",
    "    if len(rna.PARIS.blocks) > 1000 and rna.icSHAPE != None:\n",
    "        avaliable_data.append(rna)\n",
    "                              \n",
    "for i in range(len(avaliable_data)):\n",
    "    print('%4d: %s' % (i+1, avaliable_data[i].ident))"
   ]
  },
  {
   "cell_type": "markdown",
   "metadata": {},
   "source": [
    "Therefore, we retained 11 RNAs as test data.\n",
    "\n",
    "The naming rules for RNA identifiers are\n",
    "> `<bpRNA_id>|<Rfam_id>|<bpRNA_name>|<source>||0|<length>|<strand>|<validation>`"
   ]
  },
  {
   "cell_type": "markdown",
   "metadata": {},
   "source": [
    "## 2. Performing IRIS and baseline methods\n",
    "\n",
    "We run IRIS on the test data of the 11 RNAs and predict RNA secondary structure ensembles with 1, 2, and 3 representative structures (denoted as IRIS-1, IRIS-2, and IRIS-3 respectively). We also compute the structure with minimum free energy (denoted as MFE) as an ensemble of only one structure as the baseline.\n",
    "\n",
    "The parameters for running IRIS vary depending on the length of RNA, as shown below."
   ]
  },
  {
   "cell_type": "code",
   "execution_count": 6,
   "metadata": {},
   "outputs": [],
   "source": [
    "def IRIS_parameters(N):\n",
    "    if N < 160:\n",
    "        return 100, 0.50, [3, 4, 5, 6]\n",
    "    elif N >= 160 and N < 300:\n",
    "        return 100, 0.75, [4, 5, 6, 7]\n",
    "    else:\n",
    "        return 100, 0.90, [4, 5, 6, 7]"
   ]
  },
  {
   "cell_type": "markdown",
   "metadata": {},
   "source": [
    "Here, we run all the methods. This may take a few minutes."
   ]
  },
  {
   "cell_type": "code",
   "execution_count": 7,
   "metadata": {},
   "outputs": [
    {
     "name": "stdout",
     "output_type": "stream",
     "text": [
      "=== Predicting bpRNA_RFAM_999|RF00004_ABBA01028418.1_3128-3319|U2_spliceosomal_RNA|Rfam||0|192|1|published ===\n",
      "--- Run IRIS (scoring) ... (generating) ...  (picking) ...\n",
      "--- Run MFE ...\n",
      "=== Finished ===\n",
      "\n",
      "=== Predicting bpRNA_RFAM_4778|RF00030_M29212.1_2-265|RNase_MRP|Rfam||0|264|1|published ===\n",
      "--- Run IRIS (scoring) ... (generating) ...  (picking) ...\n",
      "--- Run MFE ...\n",
      "=== Finished ===\n",
      "\n",
      "=== Predicting bpRNA_RFAM_5220|RF00045_L07382.1_2-208|Small_nucleolar_RNA_SNORA73|Rfam||0|207|1|published ===\n",
      "--- Run IRIS (scoring) ... (generating) ...  (picking) ...\n",
      "--- Run MFE ...\n",
      "=== Finished ===\n",
      "\n",
      "=== Predicting bpRNA_RFAM_6402|RF00091_AC099332.2_52634-52482|Small_nucleolar_RNA_SNORA62|Rfam||0|153|1|predicted ===\n",
      "--- Run IRIS (scoring) ... (generating) ...  (picking) ...\n",
      "--- Run MFE ...\n",
      "=== Finished ===\n",
      "\n",
      "=== Predicting bpRNA_RFAM_7522|RF00138_X72205.1_148-246|Small_nucleolar_RNA_SNORD16|Rfam||0|99|1|predicted ===\n",
      "--- Run IRIS (scoring) ... (generating) ...  (picking) ...\n",
      "--- Run MFE ...\n",
      "=== Finished ===\n",
      "\n",
      "=== Predicting bpRNA_RFAM_11528|RF00279_AL357314.11_74156-74234|Small_nucleolar_RNA_SNORD45|Rfam||0|79|1|predicted ===\n",
      "--- Run IRIS (scoring) ... (generating) ...  (picking) ...\n",
      "--- Run MFE ...\n",
      "=== Finished ===\n",
      "\n",
      "=== Predicting bpRNA_RFAM_15094|RF00478_AY077737.1_2-276|Small_Cajal_body_specific_RNA_6|Rfam||0|275|1|published ===\n",
      "--- Run IRIS (scoring) ... (generating) ...  (picking) ...\n",
      "--- Run MFE ...\n",
      "=== Finished ===\n",
      "\n",
      "=== Predicting bpRNA_RFAM_17298|RF00567_AL121585.22_69574-69338|Small_nucleolar_RNA_SNORA35|Rfam||0|237|1|predicted ===\n",
      "--- Run IRIS (scoring) ... (generating) ...  (picking) ...\n",
      "--- Run MFE ...\n",
      "=== Finished ===\n",
      "\n",
      "=== Predicting bpRNA_RFAM_18156|RF00618_U62822.1_2-128|flavivirus_capsid_hairpin_cHP|Rfam||0|127|1|published ===\n",
      "--- Run IRIS (scoring) ... (generating) ...  (picking) ...\n",
      "--- Run MFE ...\n",
      "=== Finished ===\n",
      "\n",
      "=== Predicting bpRNA_RFAM_25079|RF01296_AF308283.1_1-330|Small_nucleolar_RNA|Rfam||0|330|1|predicted ===\n",
      "--- Run IRIS (scoring) ... (generating) ...  (picking) ...\n",
      "--- Run MFE ...\n",
      "=== Finished ===\n",
      "\n",
      "=== Predicting bpRNA_RFAM_43246|RF02556_ABSL01008103.1_469-355|5S_ribosomal_RNA|Rfam||0|115|1|predicted ===\n",
      "--- Run IRIS (scoring) ... (generating) ...  (picking) ...\n",
      "--- Run MFE ...\n",
      "=== Finished ===\n",
      "\n"
     ]
    }
   ],
   "source": [
    "from IRIS.IRIS_Core import *\n",
    "from IRIS.Baseline_Methods import *\n",
    "\n",
    "ostream = open('/dev/null', 'w')\n",
    "\n",
    "predicted_ensembles = {}\n",
    "for rna in avaliable_data:\n",
    "    print('=== Predicting %s ===' % rna.ident) \n",
    "    predicted_ensembles[rna.ident] = {}\n",
    "\n",
    "    print('--- Run IRIS (scoring) ...', end = ' ')\n",
    "    IRIS_scoring = Scoring(rna, ostream)\n",
    "    IRIS_scoring.compute_PARIS_support()\n",
    "\n",
    "    print('(generating) ... ', end = ' ')\n",
    "    IRIS_generating = Generating(rna, IRIS_scoring.PARIS_support, ostream)\n",
    "    IRIS_generating.generate(*IRIS_parameters(rna.N))\n",
    "\n",
    "    print('(picking) ...')\n",
    "    IRIS_picking = Picking(rna, IRIS_scoring.PARIS_support, IRIS_generating.candidate_structures, ostream)\n",
    "\n",
    "    for K in [1, 2, 3]:\n",
    "        IRIS_picking.pick(K)\n",
    "        predicted_ensembles[rna.ident]['IRIS-%d' % K] = IRIS_picking.ensemble\n",
    "\n",
    "    print('--- Run MFE ...')\n",
    "    mfe = MFE(rna)\n",
    "    mfe.predict()\n",
    "    predicted_ensembles[rna.ident]['MFE'] = mfe.ensemble\n",
    "\n",
    "    print('=== Finished ===\\n')"
   ]
  },
  {
   "cell_type": "markdown",
   "metadata": {},
   "source": [
    "## 3. Evaluation by evolutionary conservation\n",
    "\n",
    "The ensemble of RNA secondary structures predicted by IRIS is expected to be evolutionarily conserved. Here we retrieve the multiple sequence alignment of homologous sequences in the corresponding RNA family from [Rfam](https://rfam.org/), and then use [R-scape](http://eddylab.org/R-scape/) to compute the normalized mutual information between each pair of bases. The script to run R-scape is [data/Rfam_MSA/run_R-scape.py](data/Rfam_MSA/run_R-scape.py)."
   ]
  },
  {
   "cell_type": "code",
   "execution_count": 8,
   "metadata": {},
   "outputs": [],
   "source": [
    "for rna in avaliable_data:\n",
    "    rna.coevolution = Info_Coevolution(rna, './data/Rfam_MSA/sto_files', './data/Rfam_MSA/cov_files')"
   ]
  },
  {
   "cell_type": "markdown",
   "metadata": {},
   "source": [
    "Then the evaluation by coevolutionary conservation is measured by the KL distance between the base-pairing probability matrix and the normalized mutual information matrix."
   ]
  },
  {
   "cell_type": "code",
   "execution_count": 9,
   "metadata": {},
   "outputs": [
    {
     "name": "stdout",
     "output_type": "stream",
     "text": [
      "The KL divergence between the base-pairing probability matrix and the normalized mutual information matrix\n",
      "Rfam ID                             Length    MFE    IRIS-1    IRIS-2    IRIS-3\n",
      "--------------------------------  --------  -----  --------  --------  --------\n",
      "RF00004_ABBA01028418.1_3128-3319       192  147.7      \u001b[31m98.1\u001b[0m      \u001b[31m98\u001b[0m        \u001b[31m93\u001b[0m\n",
      "RF00030_M29212.1_2-265                 264  127.9     131        \u001b[31m96.1\u001b[0m      \u001b[31m85.3\u001b[0m\n",
      "RF00045_L07382.1_2-208                 207  218.2     \u001b[31m214.4\u001b[0m     \u001b[31m198.4\u001b[0m     \u001b[31m195\u001b[0m\n",
      "RF00091_AC099332.2_52634-52482         153  327.1     \u001b[31m327.1\u001b[0m     \u001b[31m320.7\u001b[0m     \u001b[31m299.6\u001b[0m\n",
      "RF00138_X72205.1_148-246                99  352.5     \u001b[31m318.3\u001b[0m     \u001b[31m315.2\u001b[0m     \u001b[31m292.3\u001b[0m\n",
      "RF00279_AL357314.11_74156-74234         79  152       156.1     158.4     \u001b[31m142.1\u001b[0m\n",
      "RF00478_AY077737.1_2-276               275  494.1     520.7     \u001b[31m481.4\u001b[0m     \u001b[31m470.1\u001b[0m\n",
      "RF00567_AL121585.22_69574-69338        237  385.3     410.9     \u001b[31m383.8\u001b[0m     \u001b[31m366.4\u001b[0m\n",
      "RF00618_U62822.1_2-128                 127   53.5      \u001b[31m53.5\u001b[0m      \u001b[31m52.9\u001b[0m      \u001b[31m52.6\u001b[0m\n",
      "RF01296_AF308283.1_1-330               330  245       \u001b[31m243.5\u001b[0m     \u001b[31m234.6\u001b[0m     \u001b[31m232.2\u001b[0m\n",
      "RF02556_ABSL01008103.1_469-355         115  582.8     \u001b[31m582.8\u001b[0m     \u001b[31m555.7\u001b[0m     \u001b[31m555.7\u001b[0m\n",
      "Note: The \u001b[31mred\u001b[0m scores are the cases that IRIS perform better than MFE.\n"
     ]
    }
   ],
   "source": [
    "from tabulate import tabulate\n",
    "\n",
    "KL_table_title = 'The KL divergence between the base-pairing probability matrix ' + \\\n",
    "                 'and the normalized mutual information matrix'\n",
    "KL_table_header = ['Rfam ID', 'Length', 'MFE', 'IRIS-1', 'IRIS-2', 'IRIS-3']\n",
    "KL_table_content = []\n",
    "for i in range(len(avaliable_data)):\n",
    "    rna = avaliable_data[i]\n",
    "    KL_MFE = rna.coevolution.evaluate_KL_divergence(predicted_ensembles[rna.ident]['MFE'])\n",
    "    KL_IRIS_1 = rna.coevolution.evaluate_KL_divergence(predicted_ensembles[rna.ident]['IRIS-1'])\n",
    "    KL_IRIS_2 = rna.coevolution.evaluate_KL_divergence(predicted_ensembles[rna.ident]['IRIS-2'])\n",
    "    KL_IRIS_3 = rna.coevolution.evaluate_KL_divergence(predicted_ensembles[rna.ident]['IRIS-3'])\n",
    "    KL_table_content.append([rna.ident.split('|')[1], rna.N, '%.1f' % KL_MFE, \n",
    "                             Utils.emphasize(KL_IRIS_1, KL_MFE, '<='), \n",
    "                             Utils.emphasize(KL_IRIS_2, KL_MFE, '<='),\n",
    "                             Utils.emphasize(KL_IRIS_3, KL_MFE, '<=')])\n",
    "print(KL_table_title)\n",
    "print(tabulate(KL_table_content, headers = KL_table_header))\n",
    "print('Note: The \\x1b[31mred\\x1b[0m scores are the cases that IRIS perform better than MFE.')"
   ]
  },
  {
   "cell_type": "markdown",
   "metadata": {},
   "source": [
    "## 4. Evaluation on icSHAPE data"
   ]
  },
  {
   "cell_type": "markdown",
   "metadata": {},
   "source": [
    "Another effective metric is to check the consistency between IRIS-predicted RNA structure ensembles and icSHAPE data, which is an *in vivo* assay orthogonal to PARIS. The icSHAPE data is processed into a score ranging from 0 to 1 for each base of the RNA, indicating the probability that this base is paired. Thus, to obtain the distribution of icSHAPE scores, we focus on the RNAs whose consensus secondary structure curated by [bpRNA](http://bprna.cgrb.oregonstate.edu/) have been validated by published articles and whose lengths are less than 100 nt as the training data (considering that short, validated RNAs are unlikely to have alternative secondary structures *in vivo*)."
   ]
  },
  {
   "cell_type": "code",
   "execution_count": 10,
   "metadata": {},
   "outputs": [
    {
     "name": "stdout",
     "output_type": "stream",
     "text": [
      "--- 25 RNA sequences are selected to train icSHAPE score distributions\n"
     ]
    }
   ],
   "source": [
    "icSHAPE_train_data = []\n",
    "for rna in all_data:\n",
    "    validation = rna.ident.split('|')[-1]\n",
    "    if rna.N <= 100 and rna.icSHAPE != None and rna.icSHAPE.rpkm > 1000 and validation == 'published':\n",
    "        icSHAPE_train_data.append(rna) \n",
    "print('--- %d RNA sequences are selected to train icSHAPE score distributions' % len(icSHAPE_train_data))"
   ]
  },
  {
   "cell_type": "markdown",
   "metadata": {},
   "source": [
    "As shown above, 25 RNAs are retained as the trainning data. Then, we fit these icSHAPE scores to the Beta distributions."
   ]
  },
  {
   "cell_type": "code",
   "execution_count": 11,
   "metadata": {},
   "outputs": [
    {
     "name": "stdout",
     "output_type": "stream",
     "text": [
      "=== Load training data for icSHAPE score distribution ===\n",
      "--- Collect 25 RNA with curated secondary structure in ./data/bpRNA_annotated_structures\n",
      "--- 291 paired bases\n",
      "--- 289 unpaired bases\n",
      "=== Finished ===\n",
      "\n",
      "\n",
      "=== Train icSHAPE score distribution ===\n",
      "--- paired_beta\t (0.1579534781762712, 0.8457051293571116, 0, 1)\n",
      "--- unpaired_beta\t (0.2089119236254529, 0.3648459100270444, 0, 1)\n",
      "=== Finished ===\n",
      "\n",
      "\n"
     ]
    },
    {
     "data": {
      "image/png": "[encoded data removed]",
      "text/plain": [
       "<Figure size 504x288 with 2 Axes>"
      ]
     },
     "metadata": {
      "needs_background": "light"
     },
     "output_type": "display_data"
    }
   ],
   "source": [
    "icSHAPE_distribution = Train_icSHAPE_Distribution(icSHAPE_train_data, './data/bpRNA_annotated_structures')\n",
    "icSHAPE_distribution.learn_parameters()\n",
    "icSHAPE_distribution.plot_distributions()"
   ]
  },
  {
   "cell_type": "markdown",
   "metadata": {},
   "source": [
    "Unlike PARIS data, icSHAPE data provide marginal information for base-pairing. As a result, the benchmark for measuring the consistency between the predicted ensemble and icSHAPE data is set as the log-likelihood of observing icSHAPE scores from the predicted ensemble, which is implemented in [IRIS/Info_icSHAPE.py](IRIS/Info_icSHAPE.py)."
   ]
  },
  {
   "cell_type": "code",
   "execution_count": 12,
   "metadata": {},
   "outputs": [
    {
     "name": "stdout",
     "output_type": "stream",
     "text": [
      "The log-likelihood of observing icSHAPE data from the predicted RNA secondary structure ensemble\n",
      "Rfam ID                             MFE    IRIS-1    IRIS-2    IRIS-3\n",
      "--------------------------------  -----  --------  --------  --------\n",
      "RF00004_ABBA01028418.1_3128-3319  551.5     \u001b[31m577.2\u001b[0m     \u001b[31m578.8\u001b[0m     \u001b[31m579.5\u001b[0m\n",
      "RF00030_M29212.1_2-265            435.4     422.4     \u001b[31m450.7\u001b[0m     \u001b[31m452.1\u001b[0m\n",
      "RF00045_L07382.1_2-208            298.2     \u001b[31m298.3\u001b[0m     298.1     297.6\n",
      "RF00091_AC099332.2_52634-52482    176.9     \u001b[31m176.9\u001b[0m     \u001b[31m190.1\u001b[0m     \u001b[31m187.3\u001b[0m\n",
      "RF00138_X72205.1_148-246          136.4     136.1     135.1     134.7\n",
      "RF00279_AL357314.11_74156-74234    25.4      \u001b[31m40.6\u001b[0m      \u001b[31m40.6\u001b[0m      \u001b[31m48.7\u001b[0m\n",
      "RF00478_AY077737.1_2-276          316.3     312.3     \u001b[31m319.3\u001b[0m     \u001b[31m317.7\u001b[0m\n",
      "RF00567_AL121585.22_69574-69338   321.2     \u001b[31m322\u001b[0m       \u001b[31m335.6\u001b[0m     \u001b[31m335.7\u001b[0m\n",
      "RF00618_U62822.1_2-128            121.4     \u001b[31m121.4\u001b[0m     120.7     118.9\n",
      "RF01296_AF308283.1_1-330          468.7     467.4     \u001b[31m473.7\u001b[0m     \u001b[31m473.8\u001b[0m\n",
      "RF02556_ABSL01008103.1_469-355    115       \u001b[31m115\u001b[0m       \u001b[31m120.3\u001b[0m     \u001b[31m120.3\u001b[0m\n",
      "Note: The \u001b[31mred\u001b[0m scores are the cases that IRIS perform better than MFE.\n"
     ]
    }
   ],
   "source": [
    "from tabulate import tabulate\n",
    "\n",
    "LL_table_title = 'The log-likelihood of observing icSHAPE data ' + \\\n",
    "                 'from the predicted RNA secondary structure ensemble'\n",
    "LL_table_header = ['Rfam ID', 'MFE', 'IRIS-1', 'IRIS-2', 'IRIS-3']\n",
    "LL_table_content = []\n",
    "for i in range(len(avaliable_data)):\n",
    "    rna = avaliable_data[i]\n",
    "    LL_MFE = icSHAPE_distribution.compute_log_likelihood(predicted_ensembles[rna.ident]['MFE'])\n",
    "    LL_IRIS_1 = icSHAPE_distribution.compute_log_likelihood(predicted_ensembles[rna.ident]['IRIS-1'])\n",
    "    LL_IRIS_2 = icSHAPE_distribution.compute_log_likelihood(predicted_ensembles[rna.ident]['IRIS-2'])\n",
    "    LL_IRIS_3 = icSHAPE_distribution.compute_log_likelihood(predicted_ensembles[rna.ident]['IRIS-3'])\n",
    "    LL_table_content.append([rna.ident.split('|')[1], '%.1f' % LL_MFE, \n",
    "                             Utils.emphasize(LL_IRIS_1, LL_MFE, '>='), \n",
    "                             Utils.emphasize(LL_IRIS_2, LL_MFE, '>='),\n",
    "                             Utils.emphasize(LL_IRIS_3, LL_MFE, '>=')])\n",
    "print(LL_table_title)\n",
    "print(tabulate(LL_table_content, headers = LL_table_header))\n",
    "print('Note: The \\x1b[31mred\\x1b[0m scores are the cases that IRIS perform better than MFE.')"
   ]
  }
 ],
 "metadata": {
  "kernelspec": {
   "display_name": "Python 3",
   "language": "python",
   "name": "python3"
  },
  "language_info": {
   "codemirror_mode": {
    "name": "ipython",
    "version": 3
   },
   "file_extension": ".py",
   "mimetype": "text/x-python",
   "name": "python",
   "nbconvert_exporter": "python",
   "pygments_lexer": "ipython3",
   "version": "3.7.3"
  }
 },
 "nbformat": 4,
 "nbformat_minor": 4
}
